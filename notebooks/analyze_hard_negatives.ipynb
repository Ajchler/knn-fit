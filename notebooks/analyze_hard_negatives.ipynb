{
 "cells": [
  {
   "cell_type": "code",
   "execution_count": 16,
   "id": "initial_id",
   "metadata": {
    "collapsed": true,
    "ExecuteTime": {
     "end_time": "2024-05-10T15:44:25.066648Z",
     "start_time": "2024-05-10T15:44:25.064682Z"
    }
   },
   "outputs": [],
   "source": [
    "\n",
    "import matplotlib\n",
    "import numpy as np\n",
    "import pandas as pd\n",
    "\n",
    "import json\n"
   ]
  },
  {
   "cell_type": "code",
   "outputs": [],
   "source": [
    "\n",
    "neg_scores = json.load(open('../evaluation-data/neg_exSets-scores.json'))\n",
    "threshold = 0.4\n",
    "\n",
    "for key, value in neg_scores.items():\n",
    "    similarities = np.array([t['similarity'] for t in value['potential_negatives_all']])\n",
    "    topics = np.array([t['topic'] for t in value['potential_negatives_all']])\n",
    "    sorted_idxs = np.argsort(-similarities)\n",
    "    # sorted_idxs = np.argsort(np.abs(similarities - threshold))\n",
    "    \n",
    "    neg_scores[key]['potential_negatives_all'] = [\n",
    "        {            \n",
    "            \"topic\": topic,\n",
    "            \"similarity\": sim\n",
    "        }\n",
    "        for sim, topic in zip(similarities[sorted_idxs], topics[sorted_idxs])\n",
    "    ]\n",
    "    del neg_scores[key]['potential_negatives_one']\n",
    "\n",
    "out_file = f\"../evaluation-data/neg_exSets-scores-sorted.json\"\n",
    "# out_file = f\"../evaluation-data/neg_exSets-scores-sorted04.json\"\n",
    "json.dump(neg_scores, open(out_file, 'w'),\n",
    "          indent=4, ensure_ascii=False)\n"
   ],
   "metadata": {
    "collapsed": false,
    "ExecuteTime": {
     "end_time": "2024-05-10T16:08:37.259630Z",
     "start_time": "2024-05-10T16:08:36.493177Z"
    }
   },
   "id": "464a620a03825c47",
   "execution_count": 28
  },
  {
   "cell_type": "code",
   "outputs": [],
   "source": [],
   "metadata": {
    "collapsed": false
   },
   "id": "b9deac37e5fdf817",
   "execution_count": null
  }
 ],
 "metadata": {
  "kernelspec": {
   "display_name": "Python 3",
   "language": "python",
   "name": "python3"
  },
  "language_info": {
   "codemirror_mode": {
    "name": "ipython",
    "version": 2
   },
   "file_extension": ".py",
   "mimetype": "text/x-python",
   "name": "python",
   "nbconvert_exporter": "python",
   "pygments_lexer": "ipython2",
   "version": "2.7.6"
  }
 },
 "nbformat": 4,
 "nbformat_minor": 5
}
